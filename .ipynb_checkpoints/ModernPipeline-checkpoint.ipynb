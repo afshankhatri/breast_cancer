{
 "cells": [
  {
   "cell_type": "markdown",
   "id": "fc0880b3-6886-409b-8625-41ccac41ff92",
   "metadata": {},
   "source": [
    "**here in this file we are going to understand the modern way of creating a pipeline ... in breast_cancer file it has used the traditional approach**"
   ]
  },
  {
   "cell_type": "code",
   "execution_count": 1,
   "id": "09301971-6384-4be5-805d-e9b8c712fe21",
   "metadata": {},
   "outputs": [],
   "source": [
    "import torch\n",
    "import torch.nn as nn"
   ]
  },
  {
   "cell_type": "code",
   "execution_count": 2,
   "id": "9958ece5-acbe-4aec-b500-156b6a70ef71",
   "metadata": {},
   "outputs": [],
   "source": [
    "# class Model(nn.Module): # without this param we wont be able to use the model properly\n",
    "    \n",
    "#     def __init__(self,num_of_features):\n",
    "#         super().__init__()\n",
    "#         self.layer1 = nn.Linear(num_of_features,3)   # this means it has \"n\" num_of_features and 1 acti func/or/1 neuron...[n input & 1 output]\n",
    "#         self.relu = nn.ReLU()\n",
    "#         self.layer2 = nn.Linear(3,1)\n",
    "#         self.sigmoid = nn.Sigmoid()\n",
    "\n",
    "#     def forward (self,features):\n",
    "#         out = self.layer1(features)\n",
    "#         out = self.relu(out)\n",
    "#         out = self.layer2(out)\n",
    "#         out = self.sigmoid(out)\n",
    "\n",
    "#         return out"
   ]
  },
  {
   "cell_type": "code",
   "execution_count": 8,
   "id": "98b4459a-cd2d-49d9-bb76-2c7f9500ef66",
   "metadata": {},
   "outputs": [],
   "source": [
    "# we can use container to make it more effective.\n",
    "class Model(nn.Module): # without this param we wont be able to use the model properly\n",
    "    \n",
    "    def __init__(self,num_of_features):\n",
    "        super().__init__()\n",
    "        self.network = nn.Sequential(\n",
    "            nn.Linear(num_of_features,3) ,  # this means it has \"n\" num_of_features and 1 acti func/or/1 neuron...[n input & 1 output]\n",
    "            nn.ReLU(),\n",
    "            nn.Linear(3,1),\n",
    "            nn.Sigmoid()\n",
    "        )\n",
    "\n",
    "    def forward (self,features):\n",
    "        out = self.network(features)\n",
    "\n",
    "        return out"
   ]
  },
  {
   "cell_type": "code",
   "execution_count": 3,
   "id": "5b178fbe-ef24-481f-9f5d-f6d6dda410cf",
   "metadata": {},
   "outputs": [
    {
     "data": {
      "text/plain": [
       "tensor([[0.3584],\n",
       "        [0.3438],\n",
       "        [0.3620],\n",
       "        [0.2875],\n",
       "        [0.3481],\n",
       "        [0.2923],\n",
       "        [0.3050],\n",
       "        [0.2838],\n",
       "        [0.3459],\n",
       "        [0.3651]], grad_fn=<SigmoidBackward0>)"
      ]
     },
     "execution_count": 3,
     "metadata": {},
     "output_type": "execute_result"
    }
   ],
   "source": [
    "# temprory dataset\n",
    "features = torch.randn(10,5)   # a tensor of 10 rows and 5 col ... (5 col =5 features of the dataset)\n",
    "\n",
    "# create model \n",
    "model = Model(features.shape[1]) #....look at the Model class ... in __init__ it ask's for num_of_features ...here we are giving it .\n",
    "\n",
    "# call model for forward pass\n",
    "model(features)   # this directly calls forward passs ."
   ]
  },
  {
   "cell_type": "code",
   "execution_count": 4,
   "id": "0c67938e-f5a2-4168-92e6-4a90c22ea79d",
   "metadata": {},
   "outputs": [
    {
     "data": {
      "text/plain": [
       "Parameter containing:\n",
       "tensor([[-0.1362, -0.2145, -0.5026]], requires_grad=True)"
      ]
     },
     "execution_count": 4,
     "metadata": {},
     "output_type": "execute_result"
    }
   ],
   "source": [
    "model.layer2.weight  # just to check weights"
   ]
  },
  {
   "cell_type": "code",
   "execution_count": 5,
   "id": "d7997635-280e-4091-993c-c0f0c659cd32",
   "metadata": {},
   "outputs": [
    {
     "data": {
      "text/plain": [
       "Parameter containing:\n",
       "tensor([-0.5320], requires_grad=True)"
      ]
     },
     "execution_count": 5,
     "metadata": {},
     "output_type": "execute_result"
    }
   ],
   "source": [
    "model.layer2.bias # just to check the bias "
   ]
  },
  {
   "cell_type": "code",
   "execution_count": 6,
   "id": "60488405-e824-4860-a3a6-562ebb56fecd",
   "metadata": {},
   "outputs": [
    {
     "name": "stdout",
     "output_type": "stream",
     "text": [
      "Requirement already satisfied: torchinfo in c:\\users\\badshah khan\\onedrive\\desktop\\ml_projects\\breast_cancer\\venv\\lib\\site-packages (1.8.0)\n"
     ]
    }
   ],
   "source": [
    "!pip install torchinfo"
   ]
  },
  {
   "cell_type": "code",
   "execution_count": 7,
   "id": "bd633709-72ab-438f-828a-296700eb2d6d",
   "metadata": {},
   "outputs": [
    {
     "data": {
      "text/plain": [
       "==========================================================================================\n",
       "Layer (type:depth-idx)                   Output Shape              Param #\n",
       "==========================================================================================\n",
       "Model                                    [10, 1]                   --\n",
       "├─Linear: 1-1                            [10, 3]                   18\n",
       "├─ReLU: 1-2                              [10, 3]                   --\n",
       "├─Linear: 1-3                            [10, 1]                   4\n",
       "├─Sigmoid: 1-4                           [10, 1]                   --\n",
       "==========================================================================================\n",
       "Total params: 22\n",
       "Trainable params: 22\n",
       "Non-trainable params: 0\n",
       "Total mult-adds (Units.MEGABYTES): 0.00\n",
       "==========================================================================================\n",
       "Input size (MB): 0.00\n",
       "Forward/backward pass size (MB): 0.00\n",
       "Params size (MB): 0.00\n",
       "Estimated Total Size (MB): 0.00\n",
       "=========================================================================================="
      ]
     },
     "execution_count": 7,
     "metadata": {},
     "output_type": "execute_result"
    }
   ],
   "source": [
    "from torchinfo import summary  # to know about the structure of the model\n",
    "summary(model,input_size=(10,5))    #classs name and input size of the features"
   ]
  },
  {
   "cell_type": "code",
   "execution_count": null,
   "id": "960e8f4c-e630-45ea-a2b5-6db143a0f69b",
   "metadata": {},
   "outputs": [],
   "source": []
  }
 ],
 "metadata": {
  "kernelspec": {
   "display_name": "Python 3 (ipykernel)",
   "language": "python",
   "name": "python3"
  },
  "language_info": {
   "codemirror_mode": {
    "name": "ipython",
    "version": 3
   },
   "file_extension": ".py",
   "mimetype": "text/x-python",
   "name": "python",
   "nbconvert_exporter": "python",
   "pygments_lexer": "ipython3",
   "version": "3.13.2"
  }
 },
 "nbformat": 4,
 "nbformat_minor": 5
}
